{
 "cells": [
  {
   "cell_type": "code",
   "execution_count": 2,
   "metadata": {
    "colab": {
     "base_uri": "https://localhost:8080/"
    },
    "executionInfo": {
     "elapsed": 6,
     "status": "ok",
     "timestamp": 1693660468316,
     "user": {
      "displayName": "Nuriel Taran",
      "userId": "07520625966970698531"
     },
     "user_tz": -180
    },
    "id": "UaDIbkfEGjGG",
    "outputId": "d76052e2-1949-4f45-983b-bb266ae7caf9"
   },
   "outputs": [
    {
     "output_type": "stream",
     "name": "stdout",
     "text": [
      "/content/drive/MyDrive/MSc Electric Engineer TAU/Final Project/Code Folder\n"
     ]
    }
   ],
   "source": [
    "import matplotlib.pyplot as plt"
   ]
  },
  {
   "cell_type": "code",
   "execution_count": 3,
   "metadata": {
    "executionInfo": {
     "elapsed": 5,
     "status": "ok",
     "timestamp": 1693660468317,
     "user": {
      "displayName": "Nuriel Taran",
      "userId": "07520625966970698531"
     },
     "user_tz": -180
    },
    "id": "YI8nvUuwFt0O"
   },
   "outputs": [],
   "source": [
    "##plt.rcParams[\"figure.figsize\"] = (10,7)\n",
    "#%run display_numpy_dataset.py"
   ]
  },
  {
   "cell_type": "code",
   "execution_count": 4,
   "metadata": {
    "executionInfo": {
     "elapsed": 7315,
     "status": "ok",
     "timestamp": 1693660475627,
     "user": {
      "displayName": "Nuriel Taran",
      "userId": "07520625966970698531"
     },
     "user_tz": -180
    },
    "id": "ku4mudiM7X5U",
    "colab": {
     "base_uri": "https://localhost:8080/",
     "height": 1000
    },
    "outputId": "c1665817-a9be-4712-8920-fdeae3bec5aa"
   },
   "outputs": [
    {
     "output_type": "error",
     "ename": "ValueError",
     "evalue": "ignored",
     "traceback": [
      "\u001B[0;31m---------------------------------------------------------------------------\u001B[0m",
      "\u001B[0;31mValueError\u001B[0m                                Traceback (most recent call last)",
      "\u001B[0;32m/content/drive/MyDrive/MSc Electric Engineer TAU/Final Project/Code Folder/display_results.py\u001B[0m in \u001B[0;36m<module>\u001B[0;34m\u001B[0m\n\u001B[1;32m    212\u001B[0m \u001B[0;34m\u001B[0m\u001B[0m\n\u001B[1;32m    213\u001B[0m \u001B[0;32mif\u001B[0m \u001B[0m__name__\u001B[0m \u001B[0;34m==\u001B[0m \u001B[0;34m'__main__'\u001B[0m\u001B[0;34m:\u001B[0m\u001B[0;34m\u001B[0m\u001B[0;34m\u001B[0m\u001B[0m\n\u001B[0;32m--> 214\u001B[0;31m     \u001B[0mmain\u001B[0m\u001B[0;34m(\u001B[0m\u001B[0;34m)\u001B[0m\u001B[0;34m\u001B[0m\u001B[0;34m\u001B[0m\u001B[0m\n\u001B[0m\u001B[1;32m    215\u001B[0m \u001B[0;32melse\u001B[0m\u001B[0;34m:\u001B[0m\u001B[0;34m\u001B[0m\u001B[0;34m\u001B[0m\u001B[0m\n\u001B[1;32m    216\u001B[0m     \u001B[0mmain\u001B[0m\u001B[0;34m(\u001B[0m\u001B[0;34m)\u001B[0m\u001B[0;34m\u001B[0m\u001B[0;34m\u001B[0m\u001B[0m\n",
      "\u001B[0;32m/content/drive/MyDrive/MSc Electric Engineer TAU/Final Project/Code Folder/display_results.py\u001B[0m in \u001B[0;36mmain\u001B[0;34m()\u001B[0m\n\u001B[1;32m     37\u001B[0m \u001B[0;34m\u001B[0m\u001B[0m\n\u001B[1;32m     38\u001B[0m     \u001B[0mnorm_trans\u001B[0m \u001B[0;34m=\u001B[0m \u001B[0mNormalSignal\u001B[0m\u001B[0;34m.\u001B[0m\u001B[0mBoxCox\u001B[0m\u001B[0;34m(\u001B[0m\u001B[0mnorm_ref\u001B[0m\u001B[0;34m,\u001B[0m \u001B[0mlamb\u001B[0m\u001B[0;34m=\u001B[0m\u001B[0mnorm_lambda\u001B[0m\u001B[0;34m)\u001B[0m\u001B[0;34m\u001B[0m\u001B[0;34m\u001B[0m\u001B[0m\n\u001B[0;32m---> 39\u001B[0;31m     dataset, train_set, val_set, test_set = create_dataset(\n\u001B[0m\u001B[1;32m     40\u001B[0m         dataset_folder, dataset_name, data_sample_len, label_len, params, transform=norm_trans)\n\u001B[1;32m     41\u001B[0m     dataset_loader = DataLoader(dataset, batch_size=batch_size,\n",
      "\u001B[0;32m/content/drive/MyDrive/MSc Electric Engineer TAU/Final Project/Code Folder/utils.py\u001B[0m in \u001B[0;36mcreate_dataset\u001B[0;34m(folder_name, dataset_name, data_sample_len, label_len, params, transform, target_transform)\u001B[0m\n\u001B[1;32m     57\u001B[0m def create_dataset(folder_name, dataset_name, data_sample_len, label_len, params,\n\u001B[1;32m     58\u001B[0m                    transform=None, target_transform=None):\n\u001B[0;32m---> 59\u001B[0;31m     dataset = CNumpySonarDataSet.CNumpySonarDataSet(folder_name+\"/\"+dataset_name,\n\u001B[0m\u001B[1;32m     60\u001B[0m                                                     \u001B[0mdata_sample_len\u001B[0m\u001B[0;34m,\u001B[0m \u001B[0mlabel_len\u001B[0m\u001B[0;34m,\u001B[0m \u001B[0mparams\u001B[0m\u001B[0;34m,\u001B[0m\u001B[0;34m\u001B[0m\u001B[0;34m\u001B[0m\u001B[0m\n\u001B[1;32m     61\u001B[0m                                                     \u001B[0mtransform\u001B[0m\u001B[0;34m=\u001B[0m\u001B[0mtransform\u001B[0m\u001B[0;34m,\u001B[0m\u001B[0;34m\u001B[0m\u001B[0;34m\u001B[0m\u001B[0m\n",
      "\u001B[0;32m/content/drive/MyDrive/MSc Electric Engineer TAU/Final Project/Code Folder/CNumpySonarDataSet.py\u001B[0m in \u001B[0;36m__init__\u001B[0;34m(self, data_base_file_name, data_sample_len, label_len, params, transform, target_transform)\u001B[0m\n\u001B[1;32m     35\u001B[0m             range_list = data_with_label[self.data_sample_len:\n\u001B[1;32m     36\u001B[0m                                          self.data_sample_len + num_target]\n\u001B[0;32m---> 37\u001B[0;31m             \u001B[0;32mif\u001B[0m \u001B[0mnp\u001B[0m\u001B[0;34m.\u001B[0m\u001B[0mmax\u001B[0m\u001B[0;34m(\u001B[0m\u001B[0mrange_list\u001B[0m\u001B[0;34m)\u001B[0m \u001B[0;34m>\u001B[0m \u001B[0mmax_range\u001B[0m\u001B[0;34m:\u001B[0m\u001B[0;34m\u001B[0m\u001B[0;34m\u001B[0m\u001B[0m\n\u001B[0m\u001B[1;32m     38\u001B[0m                 \u001B[0mmax_range\u001B[0m \u001B[0;34m=\u001B[0m \u001B[0mnp\u001B[0m\u001B[0;34m.\u001B[0m\u001B[0mmax\u001B[0m\u001B[0;34m(\u001B[0m\u001B[0mrange_list\u001B[0m\u001B[0;34m)\u001B[0m\u001B[0;34m\u001B[0m\u001B[0;34m\u001B[0m\u001B[0m\n\u001B[1;32m     39\u001B[0m                 \u001B[0mself\u001B[0m\u001B[0;34m.\u001B[0m\u001B[0mmax_waveform_index\u001B[0m \u001B[0;34m=\u001B[0m \u001B[0mindex\u001B[0m\u001B[0;34m\u001B[0m\u001B[0;34m\u001B[0m\u001B[0m\n",
      "\u001B[0;32m/usr/local/lib/python3.10/dist-packages/numpy/core/overrides.py\u001B[0m in \u001B[0;36mamax\u001B[0;34m(*args, **kwargs)\u001B[0m\n",
      "\u001B[0;32m/usr/local/lib/python3.10/dist-packages/numpy/core/fromnumeric.py\u001B[0m in \u001B[0;36mamax\u001B[0;34m(a, axis, out, keepdims, initial, where)\u001B[0m\n\u001B[1;32m   2791\u001B[0m     \u001B[0;36m5\u001B[0m\u001B[0;34m\u001B[0m\u001B[0;34m\u001B[0m\u001B[0m\n\u001B[1;32m   2792\u001B[0m     \"\"\"\n\u001B[0;32m-> 2793\u001B[0;31m     return _wrapreduction(a, np.maximum, 'max', axis, None, out,\n\u001B[0m\u001B[1;32m   2794\u001B[0m                           keepdims=keepdims, initial=initial, where=where)\n\u001B[1;32m   2795\u001B[0m \u001B[0;34m\u001B[0m\u001B[0m\n",
      "\u001B[0;32m/usr/local/lib/python3.10/dist-packages/numpy/core/fromnumeric.py\u001B[0m in \u001B[0;36m_wrapreduction\u001B[0;34m(obj, ufunc, method, axis, dtype, out, **kwargs)\u001B[0m\n\u001B[1;32m     84\u001B[0m                 \u001B[0;32mreturn\u001B[0m \u001B[0mreduction\u001B[0m\u001B[0;34m(\u001B[0m\u001B[0maxis\u001B[0m\u001B[0;34m=\u001B[0m\u001B[0maxis\u001B[0m\u001B[0;34m,\u001B[0m \u001B[0mout\u001B[0m\u001B[0;34m=\u001B[0m\u001B[0mout\u001B[0m\u001B[0;34m,\u001B[0m \u001B[0;34m**\u001B[0m\u001B[0mpasskwargs\u001B[0m\u001B[0;34m)\u001B[0m\u001B[0;34m\u001B[0m\u001B[0;34m\u001B[0m\u001B[0m\n\u001B[1;32m     85\u001B[0m \u001B[0;34m\u001B[0m\u001B[0m\n\u001B[0;32m---> 86\u001B[0;31m     \u001B[0;32mreturn\u001B[0m \u001B[0mufunc\u001B[0m\u001B[0;34m.\u001B[0m\u001B[0mreduce\u001B[0m\u001B[0;34m(\u001B[0m\u001B[0mobj\u001B[0m\u001B[0;34m,\u001B[0m \u001B[0maxis\u001B[0m\u001B[0;34m,\u001B[0m \u001B[0mdtype\u001B[0m\u001B[0;34m,\u001B[0m \u001B[0mout\u001B[0m\u001B[0;34m,\u001B[0m \u001B[0;34m**\u001B[0m\u001B[0mpasskwargs\u001B[0m\u001B[0;34m)\u001B[0m\u001B[0;34m\u001B[0m\u001B[0;34m\u001B[0m\u001B[0m\n\u001B[0m\u001B[1;32m     87\u001B[0m \u001B[0;34m\u001B[0m\u001B[0m\n\u001B[1;32m     88\u001B[0m \u001B[0;34m\u001B[0m\u001B[0m\n",
      "\u001B[0;31mValueError\u001B[0m: zero-size array to reduction operation maximum which has no identity"
     ]
    }
   ],
   "source": [
    "plt.rcParams[\"figure.figsize\"] = (20,15)\n",
    "%run display_results.py"
   ]
  },
  {
   "cell_type": "code",
   "source": [
    "\"\"\"\n",
    "import params\n",
    "\n",
    "start_time = time.time()\n",
    "path_name = \"end_segment_model_U_Net_120_64_2em4_2em4_07559999999999998_0998_6em9_11_128_1em2_0_4_1em1_2_Mult_2023_04_25_12_11_04_00000.pth\"\n",
    "csv_file = \"summery_res_2023_04_25_12_11_04.csv\"\n",
    "args = [\"parallel_model_evaluate.py\", params.PARAMS_FOLDER + \"/\" + path_name,\n",
    "        False, params.PARAMS_FOLDER + \"/\" + csv_file]\n",
    "%run parallel_model_evaluate.py {args[1]} {args[2]} {args[3]}\n",
    "print(time.time()-start_time)\n",
    "\"\"\""
   ],
   "metadata": {
    "id": "m5cn9R596r8o",
    "executionInfo": {
     "status": "ok",
     "timestamp": 1693660475627,
     "user_tz": -180,
     "elapsed": 11,
     "user": {
      "displayName": "Nuriel Taran",
      "userId": "07520625966970698531"
     }
    },
    "colab": {
     "base_uri": "https://localhost:8080/",
     "height": 105
    },
    "outputId": "052cb070-35d2-4cd9-eeef-c1fb15d7b0e6"
   },
   "execution_count": 5,
   "outputs": [
    {
     "output_type": "execute_result",
     "data": {
      "text/plain": [
       "'\\nimport params\\n\\nstart_time = time.time()\\npath_name = \"end_segment_model_U_Net_120_64_2em4_2em4_07559999999999998_0998_6em9_11_128_1em2_0_4_1em1_2_Mult_2023_04_25_12_11_04_00000.pth\"\\ncsv_file = \"summery_res_2023_04_25_12_11_04.csv\"\\nargs = [\"parallel_model_evaluate.py\", params.PARAMS_FOLDER + \"/\" + path_name,\\n        False, params.PARAMS_FOLDER + \"/\" + csv_file]\\n%run parallel_model_evaluate.py {args[1]} {args[2]} {args[3]}\\nprint(time.time()-start_time)\\n'"
      ],
      "application/vnd.google.colaboratory.intrinsic+json": {
       "type": "string"
      }
     },
     "metadata": {},
     "execution_count": 5
    }
   ]
  },
  {
   "cell_type": "code",
   "execution_count": 6,
   "metadata": {
    "id": "tzjCucckWWRV",
    "executionInfo": {
     "status": "ok",
     "timestamp": 1693660475628,
     "user_tz": -180,
     "elapsed": 10,
     "user": {
      "displayName": "Nuriel Taran",
      "userId": "07520625966970698531"
     }
    }
   },
   "outputs": [],
   "source": [
    "#start_time = time.time()\n",
    "#path_name=\"Original_AttU_Net.pth\"\n",
    "#%run model_evaluate.py\n",
    "#print(time.time()-start_time)"
   ]
  }
 ],
 "metadata": {
  "colab": {
   "provenance": []
  },
  "gpuClass": "standard",
  "kernelspec": {
   "display_name": "Python 3",
   "name": "python3"
  },
  "language_info": {
   "name": "python"
  },
  "accelerator": "GPU"
 },
 "nbformat": 4,
 "nbformat_minor": 0
}
